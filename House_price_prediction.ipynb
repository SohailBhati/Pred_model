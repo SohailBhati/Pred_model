{
  "metadata": {
    "kernelspec": {
      "language": "python",
      "display_name": "Python 3",
      "name": "python3"
    },
    "language_info": {
      "name": "python",
      "version": "3.10.12",
      "mimetype": "text/x-python",
      "codemirror_mode": {
        "name": "ipython",
        "version": 3
      },
      "pygments_lexer": "ipython3",
      "nbconvert_exporter": "python",
      "file_extension": ".py"
    },
    "kaggle": {
      "accelerator": "none",
      "dataSources": [
        {
          "sourceId": 9442930,
          "sourceType": "datasetVersion",
          "datasetId": 5738636
        }
      ],
      "dockerImageVersionId": 30822,
      "isInternetEnabled": true,
      "language": "python",
      "sourceType": "notebook",
      "isGpuEnabled": false
    },
    "colab": {
      "name": "House price prediction",
      "provenance": [],
      "include_colab_link": true
    }
  },
  "nbformat_minor": 0,
  "nbformat": 4,
  "cells": [
    {
      "cell_type": "markdown",
      "metadata": {
        "id": "view-in-github",
        "colab_type": "text"
      },
      "source": [
        "<a href=\"https://colab.research.google.com/github/SohailBhati/Pred_model/blob/main/House_price_prediction.ipynb\" target=\"_parent\"><img src=\"https://colab.research.google.com/assets/colab-badge.svg\" alt=\"Open In Colab\"/></a>"
      ]
    },
    {
      "source": [
        "# IMPORTANT: RUN THIS CELL IN ORDER TO IMPORT YOUR KAGGLE DATA SOURCES,\n",
        "# THEN FEEL FREE TO DELETE THIS CELL.\n",
        "# NOTE: THIS NOTEBOOK ENVIRONMENT DIFFERS FROM KAGGLE'S PYTHON\n",
        "# ENVIRONMENT SO THERE MAY BE MISSING LIBRARIES USED BY YOUR\n",
        "# NOTEBOOK.\n",
        "import kagglehub\n",
        "jenilhareshbhaighori_house_price_prediction_path = kagglehub.dataset_download('jenilhareshbhaighori/house-price-prediction')\n",
        "\n",
        "print('Data source import complete.')\n"
      ],
      "metadata": {
        "id": "tIzVn16U3hQq"
      },
      "cell_type": "code",
      "outputs": [],
      "execution_count": null
    },
    {
      "cell_type": "code",
      "source": [
        "import numpy as np\n",
        "import pandas as pd\n",
        "from sklearn.model_selection import train_test_split\n",
        "from sklearn.linear_model import LinearRegression\n",
        "from sklearn.metrics import mean_squared_error"
      ],
      "metadata": {
        "_uuid": "8f2839f25d086af736a60e9eeb907d3b93b6e0e5",
        "_cell_guid": "b1076dfc-b9ad-4769-8c92-a6c4dae69d19",
        "trusted": true,
        "execution": {
          "iopub.status.busy": "2024-12-28T14:22:04.962173Z",
          "iopub.execute_input": "2024-12-28T14:22:04.962599Z",
          "iopub.status.idle": "2024-12-28T14:22:04.96723Z",
          "shell.execute_reply.started": "2024-12-28T14:22:04.962557Z",
          "shell.execute_reply": "2024-12-28T14:22:04.96604Z"
        },
        "id": "eXrL_33u3hQs"
      },
      "outputs": [],
      "execution_count": null
    },
    {
      "cell_type": "code",
      "source": [
        "data = pd.read_csv(\"/kaggle/input/house-price-prediction/house_cleaned.csv\")"
      ],
      "metadata": {
        "trusted": true,
        "execution": {
          "iopub.status.busy": "2024-12-28T14:22:05.401871Z",
          "iopub.execute_input": "2024-12-28T14:22:05.40221Z",
          "iopub.status.idle": "2024-12-28T14:22:05.433437Z",
          "shell.execute_reply.started": "2024-12-28T14:22:05.402181Z",
          "shell.execute_reply": "2024-12-28T14:22:05.432456Z"
        },
        "id": "8CvFg-D23hQt"
      },
      "outputs": [],
      "execution_count": null
    },
    {
      "cell_type": "code",
      "source": [
        "data.head()"
      ],
      "metadata": {
        "trusted": true,
        "execution": {
          "iopub.status.busy": "2024-12-28T14:22:05.72157Z",
          "iopub.execute_input": "2024-12-28T14:22:05.721934Z",
          "iopub.status.idle": "2024-12-28T14:22:05.742017Z",
          "shell.execute_reply.started": "2024-12-28T14:22:05.721899Z",
          "shell.execute_reply": "2024-12-28T14:22:05.740791Z"
        },
        "id": "F9HLqD343hQu",
        "outputId": "6d1eaad9-2211-4141-f7a8-57b228cc6521"
      },
      "outputs": [
        {
          "execution_count": 39,
          "output_type": "execute_result",
          "data": {
            "text/plain": "                                      property_name property_type  \\\n0    5 Bedroom House for sale in Sector 70A Gurgaon         house   \n1  5 Bedroom House for sale in Sector 21A Faridabad         house   \n2  10 Bedroom House for sale in Sushant Lok Phase 1         house   \n3    21 Bedroom House for sale in Sector 54 Gurgaon         house   \n4  12 Bedroom House for sale in Sushant Lok Phase 1         house   \n\n            society  price  price_per_sqft    area  \\\n0  bptp visionnaire   5.25         20115.0  2610.0   \n1       independent   5.70        105751.0   539.0   \n2       independent   2.10         38251.0   549.0   \n3       independent   5.00         43066.0  1161.0   \n4       independent   3.00         53763.0   558.0   \n\n                  areaWithType  bedRoom  bathroom balcony  \\\n0  Plot area 290(242.48 sq.m.)        5         4      3+   \n1   Plot area 539(50.07 sq.m.)        5         4       2   \n2       Plot area 61(51 sq.m.)       10        10      3+   \n3  Plot area 129(107.86 sq.m.)       21        21      3+   \n4    Plot area 62(51.84 sq.m.)       12        12      3+   \n\n                       additionalRoom  \\\n0                        servant room   \n1  store room,pooja room,servant room   \n2                        servant room   \n3                        servant room   \n4                              others   \n\n                                       address  floorNum      facing  \\\n0    29b, Sector 70A Gurgaon, Gurgaon, Haryana       3.0  North-East   \n1       Sector 21A Faridabad, Gurgaon, Haryana       2.0         NaN   \n2        Sushant Lok Phase 1, Gurgaon, Haryana       5.0        West   \n3          Sector 54 Gurgaon, Gurgaon, Haryana       5.0       North   \n4  1228, Sushant Lok Phase 1, Gurgaon, Haryana       5.0        West   \n\n      agePossession                                    nearbyLocations  \\\n0   0 to 1 Year Old  ['Good Earth City Center 2', 'Kunskapsskolan I...   \n1  5 to 10 Year Old                                                NaN   \n2   0 to 1 Year Old  ['Sector 42-43 metro station', 'Huda city cent...   \n3   1 to 5 Year Old  ['Sector 53-54 metro station', 'Sector 54 chow...   \n4   Within 6 months  ['Sector 42-43 metro station', 'Huda city cent...   \n\n                                         description  \\\n0  Do you wish to buy an independent house in sec...   \n1  Hi, we have an independent house/villa availab...   \n2  Monthly rental income is rs1,40,000/- Best opt...   \n3  129 sq yd plot size. 5 floors built up , fully...   \n4  Best for investment purpose. Fully furnished b...   \n\n                                      furnishDetails  \\\n0  ['1 Wardrobe', '1 Fan', '1 Exhaust Fan', '1 Ge...   \n1  ['1 Water Purifier', '5 Fan', '1 Exhaust Fan',...   \n2  ['10 Bed', '3 Fan', '10 Geyser', '2 Light', 'N...   \n3  ['1 Water Purifier', '21 Fan', '1 Fridge', '1 ...   \n4  ['1 Water Purifier', '1 Fridge', '12 Fan', '1 ...   \n\n                                            features  \\\n0  ['Feng Shui / Vaastu Compliant', 'Private Gard...   \n1  ['Private Garden / Terrace', 'Park', 'Visitor ...   \n2  ['Maintenance Staff', 'Water Storage', 'Visito...   \n3  ['Feng Shui / Vaastu Compliant', 'Private Gard...   \n4  ['Maintenance Staff', 'Water Storage', 'Visito...   \n\n                                              rating  \n0  ['Environment5 out of 5', 'Lifestyle4 out of 5...  \n1                                                NaN  \n2  ['Environment5 out of 5', 'Lifestyle5 out of 5...  \n3  ['Environment4 out of 5', 'Lifestyle5 out of 5...  \n4  ['Environment5 out of 5', 'Lifestyle5 out of 5...  ",
            "text/html": "<div>\n<style scoped>\n    .dataframe tbody tr th:only-of-type {\n        vertical-align: middle;\n    }\n\n    .dataframe tbody tr th {\n        vertical-align: top;\n    }\n\n    .dataframe thead th {\n        text-align: right;\n    }\n</style>\n<table border=\"1\" class=\"dataframe\">\n  <thead>\n    <tr style=\"text-align: right;\">\n      <th></th>\n      <th>property_name</th>\n      <th>property_type</th>\n      <th>society</th>\n      <th>price</th>\n      <th>price_per_sqft</th>\n      <th>area</th>\n      <th>areaWithType</th>\n      <th>bedRoom</th>\n      <th>bathroom</th>\n      <th>balcony</th>\n      <th>additionalRoom</th>\n      <th>address</th>\n      <th>floorNum</th>\n      <th>facing</th>\n      <th>agePossession</th>\n      <th>nearbyLocations</th>\n      <th>description</th>\n      <th>furnishDetails</th>\n      <th>features</th>\n      <th>rating</th>\n    </tr>\n  </thead>\n  <tbody>\n    <tr>\n      <th>0</th>\n      <td>5 Bedroom House for sale in Sector 70A Gurgaon</td>\n      <td>house</td>\n      <td>bptp visionnaire</td>\n      <td>5.25</td>\n      <td>20115.0</td>\n      <td>2610.0</td>\n      <td>Plot area 290(242.48 sq.m.)</td>\n      <td>5</td>\n      <td>4</td>\n      <td>3+</td>\n      <td>servant room</td>\n      <td>29b, Sector 70A Gurgaon, Gurgaon, Haryana</td>\n      <td>3.0</td>\n      <td>North-East</td>\n      <td>0 to 1 Year Old</td>\n      <td>['Good Earth City Center 2', 'Kunskapsskolan I...</td>\n      <td>Do you wish to buy an independent house in sec...</td>\n      <td>['1 Wardrobe', '1 Fan', '1 Exhaust Fan', '1 Ge...</td>\n      <td>['Feng Shui / Vaastu Compliant', 'Private Gard...</td>\n      <td>['Environment5 out of 5', 'Lifestyle4 out of 5...</td>\n    </tr>\n    <tr>\n      <th>1</th>\n      <td>5 Bedroom House for sale in Sector 21A Faridabad</td>\n      <td>house</td>\n      <td>independent</td>\n      <td>5.70</td>\n      <td>105751.0</td>\n      <td>539.0</td>\n      <td>Plot area 539(50.07 sq.m.)</td>\n      <td>5</td>\n      <td>4</td>\n      <td>2</td>\n      <td>store room,pooja room,servant room</td>\n      <td>Sector 21A Faridabad, Gurgaon, Haryana</td>\n      <td>2.0</td>\n      <td>NaN</td>\n      <td>5 to 10 Year Old</td>\n      <td>NaN</td>\n      <td>Hi, we have an independent house/villa availab...</td>\n      <td>['1 Water Purifier', '5 Fan', '1 Exhaust Fan',...</td>\n      <td>['Private Garden / Terrace', 'Park', 'Visitor ...</td>\n      <td>NaN</td>\n    </tr>\n    <tr>\n      <th>2</th>\n      <td>10 Bedroom House for sale in Sushant Lok Phase 1</td>\n      <td>house</td>\n      <td>independent</td>\n      <td>2.10</td>\n      <td>38251.0</td>\n      <td>549.0</td>\n      <td>Plot area 61(51 sq.m.)</td>\n      <td>10</td>\n      <td>10</td>\n      <td>3+</td>\n      <td>servant room</td>\n      <td>Sushant Lok Phase 1, Gurgaon, Haryana</td>\n      <td>5.0</td>\n      <td>West</td>\n      <td>0 to 1 Year Old</td>\n      <td>['Sector 42-43 metro station', 'Huda city cent...</td>\n      <td>Monthly rental income is rs1,40,000/- Best opt...</td>\n      <td>['10 Bed', '3 Fan', '10 Geyser', '2 Light', 'N...</td>\n      <td>['Maintenance Staff', 'Water Storage', 'Visito...</td>\n      <td>['Environment5 out of 5', 'Lifestyle5 out of 5...</td>\n    </tr>\n    <tr>\n      <th>3</th>\n      <td>21 Bedroom House for sale in Sector 54 Gurgaon</td>\n      <td>house</td>\n      <td>independent</td>\n      <td>5.00</td>\n      <td>43066.0</td>\n      <td>1161.0</td>\n      <td>Plot area 129(107.86 sq.m.)</td>\n      <td>21</td>\n      <td>21</td>\n      <td>3+</td>\n      <td>servant room</td>\n      <td>Sector 54 Gurgaon, Gurgaon, Haryana</td>\n      <td>5.0</td>\n      <td>North</td>\n      <td>1 to 5 Year Old</td>\n      <td>['Sector 53-54 metro station', 'Sector 54 chow...</td>\n      <td>129 sq yd plot size. 5 floors built up , fully...</td>\n      <td>['1 Water Purifier', '21 Fan', '1 Fridge', '1 ...</td>\n      <td>['Feng Shui / Vaastu Compliant', 'Private Gard...</td>\n      <td>['Environment4 out of 5', 'Lifestyle5 out of 5...</td>\n    </tr>\n    <tr>\n      <th>4</th>\n      <td>12 Bedroom House for sale in Sushant Lok Phase 1</td>\n      <td>house</td>\n      <td>independent</td>\n      <td>3.00</td>\n      <td>53763.0</td>\n      <td>558.0</td>\n      <td>Plot area 62(51.84 sq.m.)</td>\n      <td>12</td>\n      <td>12</td>\n      <td>3+</td>\n      <td>others</td>\n      <td>1228, Sushant Lok Phase 1, Gurgaon, Haryana</td>\n      <td>5.0</td>\n      <td>West</td>\n      <td>Within 6 months</td>\n      <td>['Sector 42-43 metro station', 'Huda city cent...</td>\n      <td>Best for investment purpose. Fully furnished b...</td>\n      <td>['1 Water Purifier', '1 Fridge', '12 Fan', '1 ...</td>\n      <td>['Maintenance Staff', 'Water Storage', 'Visito...</td>\n      <td>['Environment5 out of 5', 'Lifestyle5 out of 5...</td>\n    </tr>\n  </tbody>\n</table>\n</div>"
          },
          "metadata": {}
        }
      ],
      "execution_count": null
    },
    {
      "cell_type": "code",
      "source": [
        "usd_to_inr = 83"
      ],
      "metadata": {
        "trusted": true,
        "execution": {
          "iopub.status.busy": "2024-12-28T14:22:06.206876Z",
          "iopub.execute_input": "2024-12-28T14:22:06.207325Z",
          "iopub.status.idle": "2024-12-28T14:22:06.211896Z",
          "shell.execute_reply.started": "2024-12-28T14:22:06.207288Z",
          "shell.execute_reply": "2024-12-28T14:22:06.210797Z"
        },
        "id": "z3wg0BqL3hQu"
      },
      "outputs": [],
      "execution_count": null
    },
    {
      "cell_type": "code",
      "source": [
        "data = {\n",
        "    \"Size (sq ft)\": [850, 900, 1200, 1500, 1800],\n",
        "    \"Bedrooms\": [2, 2, 3, 3, 4],\n",
        "    \"Price ($)\": [250000, 260000, 300000, 360000, 400000]\n",
        "}"
      ],
      "metadata": {
        "trusted": true,
        "execution": {
          "iopub.status.busy": "2024-12-28T14:22:06.485116Z",
          "iopub.execute_input": "2024-12-28T14:22:06.486284Z",
          "iopub.status.idle": "2024-12-28T14:22:06.492845Z",
          "shell.execute_reply.started": "2024-12-28T14:22:06.48622Z",
          "shell.execute_reply": "2024-12-28T14:22:06.491089Z"
        },
        "id": "AGAqxF-L3hQv"
      },
      "outputs": [],
      "execution_count": null
    },
    {
      "cell_type": "code",
      "source": [
        "data[\"Price (₹)\"] = [price * usd_to_inr for price in data[\"Price ($)\"]]"
      ],
      "metadata": {
        "trusted": true,
        "execution": {
          "iopub.status.busy": "2024-12-28T14:22:06.762299Z",
          "iopub.execute_input": "2024-12-28T14:22:06.762716Z",
          "iopub.status.idle": "2024-12-28T14:22:06.767332Z",
          "shell.execute_reply.started": "2024-12-28T14:22:06.762676Z",
          "shell.execute_reply": "2024-12-28T14:22:06.765959Z"
        },
        "id": "GVmVE3ST3hQw"
      },
      "outputs": [],
      "execution_count": null
    },
    {
      "cell_type": "code",
      "source": [
        "df = pd.DataFrame(data)"
      ],
      "metadata": {
        "trusted": true,
        "execution": {
          "iopub.status.busy": "2024-12-28T14:22:07.042281Z",
          "iopub.execute_input": "2024-12-28T14:22:07.042682Z",
          "iopub.status.idle": "2024-12-28T14:22:07.047777Z",
          "shell.execute_reply.started": "2024-12-28T14:22:07.042643Z",
          "shell.execute_reply": "2024-12-28T14:22:07.046458Z"
        },
        "id": "XmwW9qQI3hQx"
      },
      "outputs": [],
      "execution_count": null
    },
    {
      "cell_type": "code",
      "source": [
        "X = df[[\"Size (sq ft)\", \"Bedrooms\"]]\n",
        "y = df[\"Price (₹)\"]"
      ],
      "metadata": {
        "trusted": true,
        "execution": {
          "iopub.status.busy": "2024-12-28T14:22:07.281875Z",
          "iopub.execute_input": "2024-12-28T14:22:07.282297Z",
          "iopub.status.idle": "2024-12-28T14:22:07.289168Z",
          "shell.execute_reply.started": "2024-12-28T14:22:07.28226Z",
          "shell.execute_reply": "2024-12-28T14:22:07.287944Z"
        },
        "id": "G2mAzeoG3hQy"
      },
      "outputs": [],
      "execution_count": null
    },
    {
      "cell_type": "code",
      "source": [
        "X_train, X_test, y_train, y_test = train_test_split(X, y, test_size=0.2, random_state=42)"
      ],
      "metadata": {
        "trusted": true,
        "execution": {
          "iopub.status.busy": "2024-12-28T14:22:07.602185Z",
          "iopub.execute_input": "2024-12-28T14:22:07.602564Z",
          "iopub.status.idle": "2024-12-28T14:22:07.609187Z",
          "shell.execute_reply.started": "2024-12-28T14:22:07.602522Z",
          "shell.execute_reply": "2024-12-28T14:22:07.607987Z"
        },
        "id": "e-fRKh8W3hQy"
      },
      "outputs": [],
      "execution_count": null
    },
    {
      "cell_type": "code",
      "source": [
        "model = LinearRegression()"
      ],
      "metadata": {
        "trusted": true,
        "execution": {
          "iopub.status.busy": "2024-12-28T14:22:07.961884Z",
          "iopub.execute_input": "2024-12-28T14:22:07.962214Z",
          "iopub.status.idle": "2024-12-28T14:22:07.96637Z",
          "shell.execute_reply.started": "2024-12-28T14:22:07.962187Z",
          "shell.execute_reply": "2024-12-28T14:22:07.96517Z"
        },
        "id": "fq5SoO5s3hQz"
      },
      "outputs": [],
      "execution_count": null
    },
    {
      "cell_type": "code",
      "source": [
        "model.fit(X_train,y_train)"
      ],
      "metadata": {
        "trusted": true,
        "execution": {
          "iopub.status.busy": "2024-12-28T14:22:14.646663Z",
          "iopub.execute_input": "2024-12-28T14:22:14.647033Z",
          "iopub.status.idle": "2024-12-28T14:22:14.657288Z",
          "shell.execute_reply.started": "2024-12-28T14:22:14.646999Z",
          "shell.execute_reply": "2024-12-28T14:22:14.656048Z"
        },
        "id": "WsTUR5YX3hQz",
        "outputId": "6e00eb47-53ad-46fc-9d53-652cdd933d97"
      },
      "outputs": [
        {
          "execution_count": 47,
          "output_type": "execute_result",
          "data": {
            "text/plain": "LinearRegression()",
            "text/html": "<style>#sk-container-id-3 {color: black;background-color: white;}#sk-container-id-3 pre{padding: 0;}#sk-container-id-3 div.sk-toggleable {background-color: white;}#sk-container-id-3 label.sk-toggleable__label {cursor: pointer;display: block;width: 100%;margin-bottom: 0;padding: 0.3em;box-sizing: border-box;text-align: center;}#sk-container-id-3 label.sk-toggleable__label-arrow:before {content: \"▸\";float: left;margin-right: 0.25em;color: #696969;}#sk-container-id-3 label.sk-toggleable__label-arrow:hover:before {color: black;}#sk-container-id-3 div.sk-estimator:hover label.sk-toggleable__label-arrow:before {color: black;}#sk-container-id-3 div.sk-toggleable__content {max-height: 0;max-width: 0;overflow: hidden;text-align: left;background-color: #f0f8ff;}#sk-container-id-3 div.sk-toggleable__content pre {margin: 0.2em;color: black;border-radius: 0.25em;background-color: #f0f8ff;}#sk-container-id-3 input.sk-toggleable__control:checked~div.sk-toggleable__content {max-height: 200px;max-width: 100%;overflow: auto;}#sk-container-id-3 input.sk-toggleable__control:checked~label.sk-toggleable__label-arrow:before {content: \"▾\";}#sk-container-id-3 div.sk-estimator input.sk-toggleable__control:checked~label.sk-toggleable__label {background-color: #d4ebff;}#sk-container-id-3 div.sk-label input.sk-toggleable__control:checked~label.sk-toggleable__label {background-color: #d4ebff;}#sk-container-id-3 input.sk-hidden--visually {border: 0;clip: rect(1px 1px 1px 1px);clip: rect(1px, 1px, 1px, 1px);height: 1px;margin: -1px;overflow: hidden;padding: 0;position: absolute;width: 1px;}#sk-container-id-3 div.sk-estimator {font-family: monospace;background-color: #f0f8ff;border: 1px dotted black;border-radius: 0.25em;box-sizing: border-box;margin-bottom: 0.5em;}#sk-container-id-3 div.sk-estimator:hover {background-color: #d4ebff;}#sk-container-id-3 div.sk-parallel-item::after {content: \"\";width: 100%;border-bottom: 1px solid gray;flex-grow: 1;}#sk-container-id-3 div.sk-label:hover label.sk-toggleable__label {background-color: #d4ebff;}#sk-container-id-3 div.sk-serial::before {content: \"\";position: absolute;border-left: 1px solid gray;box-sizing: border-box;top: 0;bottom: 0;left: 50%;z-index: 0;}#sk-container-id-3 div.sk-serial {display: flex;flex-direction: column;align-items: center;background-color: white;padding-right: 0.2em;padding-left: 0.2em;position: relative;}#sk-container-id-3 div.sk-item {position: relative;z-index: 1;}#sk-container-id-3 div.sk-parallel {display: flex;align-items: stretch;justify-content: center;background-color: white;position: relative;}#sk-container-id-3 div.sk-item::before, #sk-container-id-3 div.sk-parallel-item::before {content: \"\";position: absolute;border-left: 1px solid gray;box-sizing: border-box;top: 0;bottom: 0;left: 50%;z-index: -1;}#sk-container-id-3 div.sk-parallel-item {display: flex;flex-direction: column;z-index: 1;position: relative;background-color: white;}#sk-container-id-3 div.sk-parallel-item:first-child::after {align-self: flex-end;width: 50%;}#sk-container-id-3 div.sk-parallel-item:last-child::after {align-self: flex-start;width: 50%;}#sk-container-id-3 div.sk-parallel-item:only-child::after {width: 0;}#sk-container-id-3 div.sk-dashed-wrapped {border: 1px dashed gray;margin: 0 0.4em 0.5em 0.4em;box-sizing: border-box;padding-bottom: 0.4em;background-color: white;}#sk-container-id-3 div.sk-label label {font-family: monospace;font-weight: bold;display: inline-block;line-height: 1.2em;}#sk-container-id-3 div.sk-label-container {text-align: center;}#sk-container-id-3 div.sk-container {/* jupyter's `normalize.less` sets `[hidden] { display: none; }` but bootstrap.min.css set `[hidden] { display: none !important; }` so we also need the `!important` here to be able to override the default hidden behavior on the sphinx rendered scikit-learn.org. See: https://github.com/scikit-learn/scikit-learn/issues/21755 */display: inline-block !important;position: relative;}#sk-container-id-3 div.sk-text-repr-fallback {display: none;}</style><div id=\"sk-container-id-3\" class=\"sk-top-container\"><div class=\"sk-text-repr-fallback\"><pre>LinearRegression()</pre><b>In a Jupyter environment, please rerun this cell to show the HTML representation or trust the notebook. <br />On GitHub, the HTML representation is unable to render, please try loading this page with nbviewer.org.</b></div><div class=\"sk-container\" hidden><div class=\"sk-item\"><div class=\"sk-estimator sk-toggleable\"><input class=\"sk-toggleable__control sk-hidden--visually\" id=\"sk-estimator-id-3\" type=\"checkbox\" checked><label for=\"sk-estimator-id-3\" class=\"sk-toggleable__label sk-toggleable__label-arrow\">LinearRegression</label><div class=\"sk-toggleable__content\"><pre>LinearRegression()</pre></div></div></div></div></div>"
          },
          "metadata": {}
        }
      ],
      "execution_count": null
    },
    {
      "cell_type": "code",
      "source": [
        "y_pred = model.predict(X_test)"
      ],
      "metadata": {
        "trusted": true,
        "execution": {
          "iopub.status.busy": "2024-12-28T14:22:15.761781Z",
          "iopub.execute_input": "2024-12-28T14:22:15.762142Z",
          "iopub.status.idle": "2024-12-28T14:22:15.768436Z",
          "shell.execute_reply.started": "2024-12-28T14:22:15.762113Z",
          "shell.execute_reply": "2024-12-28T14:22:15.766981Z"
        },
        "id": "GM1CRgqx3hQz"
      },
      "outputs": [],
      "execution_count": null
    },
    {
      "cell_type": "code",
      "source": [
        "mse = mean_squared_error(y_test, y_pred)\n",
        "print(f\"Mean Squared Error (₹): {mse:,.2f}\")"
      ],
      "metadata": {
        "trusted": true,
        "execution": {
          "iopub.status.busy": "2024-12-28T14:23:39.041991Z",
          "iopub.execute_input": "2024-12-28T14:23:39.042455Z",
          "iopub.status.idle": "2024-12-28T14:23:39.049421Z",
          "shell.execute_reply.started": "2024-12-28T14:23:39.04241Z",
          "shell.execute_reply": "2024-12-28T14:23:39.047875Z"
        },
        "id": "OuyErSWD3hQ0",
        "outputId": "57bdbd0d-f6fa-40e3-868d-f304ae0d3a66"
      },
      "outputs": [
        {
          "name": "stdout",
          "text": "Mean Squared Error (₹): 0.00\n",
          "output_type": "stream"
        }
      ],
      "execution_count": null
    },
    {
      "cell_type": "code",
      "source": [
        "new_data = np.array([[1400, 3]])\n",
        "predicted_price_inr = model.predict(new_data)\n",
        "print(f\"Predicted Price (₹): ₹{predicted_price_inr[0]:,.2f}\")"
      ],
      "metadata": {
        "trusted": true,
        "execution": {
          "iopub.status.busy": "2024-12-28T14:23:40.48694Z",
          "iopub.execute_input": "2024-12-28T14:23:40.48727Z",
          "iopub.status.idle": "2024-12-28T14:23:40.493489Z",
          "shell.execute_reply.started": "2024-12-28T14:23:40.487243Z",
          "shell.execute_reply": "2024-12-28T14:23:40.492295Z"
        },
        "id": "JK6kM1u93hQ0",
        "outputId": "6c5fe0be-0ac8-46a7-dbf3-21ba86ee375b"
      },
      "outputs": [
        {
          "name": "stdout",
          "text": "Predicted Price (₹): ₹28,220,000.00\n",
          "output_type": "stream"
        },
        {
          "name": "stderr",
          "text": "/usr/local/lib/python3.10/dist-packages/sklearn/base.py:439: UserWarning: X does not have valid feature names, but LinearRegression was fitted with feature names\n  warnings.warn(\n",
          "output_type": "stream"
        }
      ],
      "execution_count": null
    },
    {
      "cell_type": "code",
      "source": [],
      "metadata": {
        "trusted": true,
        "id": "GGNxYVxd3hQ0"
      },
      "outputs": [],
      "execution_count": null
    }
  ]
}